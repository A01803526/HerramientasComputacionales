{
 "cells": [
  {
   "cell_type": "code",
   "execution_count": 108,
   "id": "90b218c8",
   "metadata": {},
   "outputs": [],
   "source": [
    "import pandas as pd\n",
    "from sklearn.cluster import KMeans\n",
    "from sklearn.compose import ColumnTransformer\n",
    "from sklearn.preprocessing import StandardScaler, OneHotEncoder\n",
    "from sklearn.decomposition import PCA\n",
    "import matplotlib.pyplot as plt\n",
    "import seaborn as sns\n",
    "import numpy as np\n"
   ]
  },
  {
   "cell_type": "code",
   "execution_count": 109,
   "id": "fc779851",
   "metadata": {},
   "outputs": [],
   "source": [
    "df = pd.read_csv(\"country_wise_latest.csv\")"
   ]
  },
  {
   "cell_type": "code",
   "execution_count": 110,
   "id": "cf15405f",
   "metadata": {},
   "outputs": [
    {
     "name": "stdout",
     "output_type": "stream",
     "text": [
      "['Country/Region', 'Confirmed', 'Deaths', 'Recovered', 'Active', 'New cases', 'New deaths', 'New recovered', 'Deaths / 100 Cases', 'Recovered / 100 Cases', 'Deaths / 100 Recovered', 'Confirmed last week', '1 week change', '1 week % increase', 'WHO Region']\n"
     ]
    }
   ],
   "source": [
    "print(df.columns.tolist())\n"
   ]
  },
  {
   "cell_type": "code",
   "execution_count": null,
   "id": "d1f1ef2a",
   "metadata": {},
   "outputs": [
    {
     "name": "stderr",
     "output_type": "stream",
     "text": [
      "/var/folders/ph/43hbqcts0xq6dx91_rxmrh7m0000gn/T/ipykernel_27377/3807076433.py:7: FutureWarning: errors='ignore' is deprecated and will raise in a future version. Use to_numeric without passing `errors` and catch exceptions explicitly instead\n",
      "  df[c] = pd.to_numeric(df[c], errors=\"ignore\")\n"
     ]
    }
   ],
   "source": [
    "df = df.replace([np.inf, -np.inf], np.nan)\n",
    "\n",
    "for c in df.columns:\n",
    "    if df[c].dtype == \"object\":\n",
    "        # intenta convertir a numérico si vienen números como texto; si no aplica, lo deja igual\n",
    "        df[c] = pd.to_numeric(df[c], errors=\"ignore\")\n"
   ]
  },
  {
   "cell_type": "code",
   "execution_count": null,
   "id": "044c1512",
   "metadata": {},
   "outputs": [
    {
     "name": "stdout",
     "output_type": "stream",
     "text": [
      "Columnas numéricas usadas: ['Confirmed', 'Deaths', 'Recovered', 'Active', 'New cases', 'New deaths', 'New recovered', 'Deaths / 100 Cases', 'Recovered / 100 Cases', 'Deaths / 100 Recovered', 'Confirmed last week', '1 week change', '1 week % increase']\n"
     ]
    }
   ],
   "source": [
    "num_cols = df.select_dtypes(include=[\"number\"]).columns.tolist()\n",
    "\n",
    "print(\"Columnas numéricas usadas:\", num_cols)\n"
   ]
  },
  {
   "cell_type": "code",
   "execution_count": null,
   "id": "5c090fae",
   "metadata": {},
   "outputs": [],
   "source": [
    "X_num = df[num_cols].copy()\n",
    "\n",
    "X_num = X_num.replace([np.inf, -np.inf], np.nan)\n"
   ]
  },
  {
   "cell_type": "code",
   "execution_count": null,
   "id": "d33410da",
   "metadata": {},
   "outputs": [
    {
     "name": "stdout",
     "output_type": "stream",
     "text": [
      "Shape de X: (187, 13)\n"
     ]
    }
   ],
   "source": [
    "imp = SimpleImputer(strategy=\"median\")\n",
    "sca = StandardScaler()\n",
    "\n",
    "X = imp.fit_transform(X_num)\n",
    "X = sca.fit_transform(X)\n",
    "\n",
    "print(\"Shape de X:\", X.shape)\n"
   ]
  },
  {
   "cell_type": "code",
   "execution_count": null,
   "id": "dd0c80d9",
   "metadata": {},
   "outputs": [
    {
     "name": "stdout",
     "output_type": "stream",
     "text": [
      "K=1, Inercia = 2431.000000 - Diferencia = 0.000000\n",
      "K=2, Inercia = 1166.995051 - Diferencia = 1264.004949\n",
      "K=3, Inercia = 981.356823 - Diferencia = 185.638228\n",
      "K=4, Inercia = 756.246355 - Diferencia = 225.110468\n",
      "K=5, Inercia = 607.037773 - Diferencia = 149.208581\n",
      "K=6, Inercia = 474.316712 - Diferencia = 132.721062\n",
      "K=7, Inercia = 371.655953 - Diferencia = 102.660759\n",
      "K=8, Inercia = 273.134456 - Diferencia = 98.521497\n",
      "K=9, Inercia = 250.717805 - Diferencia = 22.416651\n",
      "K=10, Inercia = 217.660889 - Diferencia = 33.056916\n"
     ]
    },
    {
     "data": {
      "image/png": "[encoded data removed]",
      "text/plain": [
       "<Figure size 640x480 with 1 Axes>"
      ]
     },
     "metadata": {},
     "output_type": "display_data"
    }
   ],
   "source": [
    "inertias = []\n",
    "for k in range(1, 11):\n",
    "    km = KMeans(n_clusters=k, random_state=42)\n",
    "    km.fit(X)\n",
    "    inertias.append(km.inertia_)\n",
    "    diff = inertias[-2] - inertias[-1] if k > 1 else 0\n",
    "    print(f'K={k}, Inercia = {km.inertia_:.6f} - Diferencia = {diff:.6f}')\n",
    "\n",
    "plt.plot(range(1, 11), inertias, marker='o')\n",
    "plt.title(\"Método del codo (COVID)\")\n",
    "plt.xlabel(\"k\")\n",
    "plt.ylabel(\"Inercia (SSE)\")\n",
    "plt.grid()\n",
    "plt.show()\n"
   ]
  },
  {
   "cell_type": "code",
   "execution_count": null,
   "id": "86c3f9ba",
   "metadata": {},
   "outputs": [
    {
     "name": "stdout",
     "output_type": "stream",
     "text": [
      "Conteo por cluster: [182   1   2   2]\n"
     ]
    }
   ],
   "source": [
    "k_opt = 4\n",
    "kmeans = KMeans(n_clusters=k_opt, random_state=42)\n",
    "labels = kmeans.fit_predict(X)\n",
    "print(\"Conteo por cluster:\", np.bincount(labels))\n"
   ]
  },
  {
   "cell_type": "code",
   "execution_count": null,
   "id": "85afa92e",
   "metadata": {},
   "outputs": [
    {
     "data": {
      "text/html": [
       "<div>\n",
       "<style scoped>\n",
       "    .dataframe tbody tr th:only-of-type {\n",
       "        vertical-align: middle;\n",
       "    }\n",
       "\n",
       "    .dataframe tbody tr th {\n",
       "        vertical-align: top;\n",
       "    }\n",
       "\n",
       "    .dataframe thead th {\n",
       "        text-align: right;\n",
       "    }\n",
       "</style>\n",
       "<table border=\"1\" class=\"dataframe\">\n",
       "  <thead>\n",
       "    <tr style=\"text-align: right;\">\n",
       "      <th></th>\n",
       "      <th>Confirmed</th>\n",
       "      <th>Deaths</th>\n",
       "      <th>Recovered</th>\n",
       "      <th>Active</th>\n",
       "      <th>New cases</th>\n",
       "      <th>New deaths</th>\n",
       "      <th>New recovered</th>\n",
       "      <th>Deaths / 100 Cases</th>\n",
       "    </tr>\n",
       "    <tr>\n",
       "      <th>cluster</th>\n",
       "      <th></th>\n",
       "      <th></th>\n",
       "      <th></th>\n",
       "      <th></th>\n",
       "      <th></th>\n",
       "      <th></th>\n",
       "      <th></th>\n",
       "      <th></th>\n",
       "    </tr>\n",
       "  </thead>\n",
       "  <tbody>\n",
       "    <tr>\n",
       "      <th>0</th>\n",
       "      <td>43476.14</td>\n",
       "      <td>1829.64</td>\n",
       "      <td>29356.32</td>\n",
       "      <td>12290.18</td>\n",
       "      <td>568.73</td>\n",
       "      <td>16.92</td>\n",
       "      <td>436.01</td>\n",
       "      <td>2.90</td>\n",
       "    </tr>\n",
       "    <tr>\n",
       "      <th>1</th>\n",
       "      <td>4290259.00</td>\n",
       "      <td>148011.00</td>\n",
       "      <td>1325804.00</td>\n",
       "      <td>2816444.00</td>\n",
       "      <td>56336.00</td>\n",
       "      <td>1076.00</td>\n",
       "      <td>27941.00</td>\n",
       "      <td>3.45</td>\n",
       "    </tr>\n",
       "    <tr>\n",
       "      <th>2</th>\n",
       "      <td>1961224.00</td>\n",
       "      <td>60513.00</td>\n",
       "      <td>1398903.50</td>\n",
       "      <td>501807.50</td>\n",
       "      <td>33870.50</td>\n",
       "      <td>625.50</td>\n",
       "      <td>33663.00</td>\n",
       "      <td>2.92</td>\n",
       "    </tr>\n",
       "    <tr>\n",
       "      <th>3</th>\n",
       "      <td>177560.50</td>\n",
       "      <td>26002.00</td>\n",
       "      <td>813.00</td>\n",
       "      <td>150745.50</td>\n",
       "      <td>553.50</td>\n",
       "      <td>4.00</td>\n",
       "      <td>1.50</td>\n",
       "      <td>13.36</td>\n",
       "    </tr>\n",
       "  </tbody>\n",
       "</table>\n",
       "</div>"
      ],
      "text/plain": [
       "          Confirmed     Deaths   Recovered      Active  New cases  New deaths  \\\n",
       "cluster                                                                         \n",
       "0          43476.14    1829.64    29356.32    12290.18     568.73       16.92   \n",
       "1        4290259.00  148011.00  1325804.00  2816444.00   56336.00     1076.00   \n",
       "2        1961224.00   60513.00  1398903.50   501807.50   33870.50      625.50   \n",
       "3         177560.50   26002.00      813.00   150745.50     553.50        4.00   \n",
       "\n",
       "         New recovered  Deaths / 100 Cases  \n",
       "cluster                                     \n",
       "0               436.01                2.90  \n",
       "1             27941.00                3.45  \n",
       "2             33663.00                2.92  \n",
       "3                 1.50               13.36  "
      ]
     },
     "execution_count": 117,
     "metadata": {},
     "output_type": "execute_result"
    }
   ],
   "source": [
    "df_clusters = df.copy()\n",
    "df_clusters[\"cluster\"] = labels\n",
    "\n",
    "cols_resumen = [c for c in num_cols][:8]  \n",
    "resumen = df_clusters.groupby(\"cluster\")[cols_resumen].mean().round(2)\n",
    "resumen\n"
   ]
  },
  {
   "cell_type": "code",
   "execution_count": 118,
   "id": "3e026b25",
   "metadata": {},
   "outputs": [
    {
     "name": "stdout",
     "output_type": "stream",
     "text": [
      "K=1, Inercia = 2,431.000000 - Diferencia = 0.000000\n",
      "K=2, Inercia = 1,166.995051 - Diferencia = 1,264.004949\n",
      "K=3, Inercia = 981.356823 - Diferencia = 185.638228\n",
      "K=4, Inercia = 756.246355 - Diferencia = 225.110468\n",
      "K=5, Inercia = 607.037773 - Diferencia = 149.208581\n",
      "K=6, Inercia = 474.316712 - Diferencia = 132.721062\n",
      "K=7, Inercia = 371.655953 - Diferencia = 102.660759\n",
      "K=8, Inercia = 273.134456 - Diferencia = 98.521497\n",
      "K=9, Inercia = 250.717805 - Diferencia = 22.416651\n",
      "K=10, Inercia = 217.660889 - Diferencia = 33.056916\n"
     ]
    }
   ],
   "source": [
    "inertias = []\n",
    "for k in range(1, 11):\n",
    "    kmeans = KMeans(n_clusters=k, random_state=42)\n",
    "    kmeans.fit(X)\n",
    "    inertias.append(kmeans.inertia_)\n",
    "    diff = inertias[-2] - inertias[-1] if k > 1 else 0\n",
    "    print(f'K={k}, Inercia = {kmeans.inertia_:,.6f} - Diferencia = {diff:,.6f}')"
   ]
  },
  {
   "cell_type": "code",
   "execution_count": 119,
   "id": "17f3f2f1",
   "metadata": {},
   "outputs": [
    {
     "data": {
      "text/html": [
       "<div>\n",
       "<style scoped>\n",
       "    .dataframe tbody tr th:only-of-type {\n",
       "        vertical-align: middle;\n",
       "    }\n",
       "\n",
       "    .dataframe tbody tr th {\n",
       "        vertical-align: top;\n",
       "    }\n",
       "\n",
       "    .dataframe thead th {\n",
       "        text-align: right;\n",
       "    }\n",
       "</style>\n",
       "<table border=\"1\" class=\"dataframe\">\n",
       "  <thead>\n",
       "    <tr style=\"text-align: right;\">\n",
       "      <th></th>\n",
       "      <th>Country/Region</th>\n",
       "      <th>Confirmed</th>\n",
       "      <th>Deaths</th>\n",
       "      <th>Recovered</th>\n",
       "      <th>Active</th>\n",
       "      <th>New cases</th>\n",
       "      <th>New deaths</th>\n",
       "      <th>New recovered</th>\n",
       "      <th>Deaths / 100 Cases</th>\n",
       "      <th>Recovered / 100 Cases</th>\n",
       "      <th>Deaths / 100 Recovered</th>\n",
       "      <th>Confirmed last week</th>\n",
       "      <th>1 week change</th>\n",
       "      <th>1 week % increase</th>\n",
       "      <th>WHO Region</th>\n",
       "      <th>Cluster</th>\n",
       "    </tr>\n",
       "  </thead>\n",
       "  <tbody>\n",
       "    <tr>\n",
       "      <th>0</th>\n",
       "      <td>Afghanistan</td>\n",
       "      <td>36263</td>\n",
       "      <td>1269</td>\n",
       "      <td>25198</td>\n",
       "      <td>9796</td>\n",
       "      <td>106</td>\n",
       "      <td>10</td>\n",
       "      <td>18</td>\n",
       "      <td>3.50</td>\n",
       "      <td>69.49</td>\n",
       "      <td>5.04</td>\n",
       "      <td>35526</td>\n",
       "      <td>737</td>\n",
       "      <td>2.07</td>\n",
       "      <td>Eastern Mediterranean</td>\n",
       "      <td>0</td>\n",
       "    </tr>\n",
       "    <tr>\n",
       "      <th>1</th>\n",
       "      <td>Albania</td>\n",
       "      <td>4880</td>\n",
       "      <td>144</td>\n",
       "      <td>2745</td>\n",
       "      <td>1991</td>\n",
       "      <td>117</td>\n",
       "      <td>6</td>\n",
       "      <td>63</td>\n",
       "      <td>2.95</td>\n",
       "      <td>56.25</td>\n",
       "      <td>5.25</td>\n",
       "      <td>4171</td>\n",
       "      <td>709</td>\n",
       "      <td>17.00</td>\n",
       "      <td>Europe</td>\n",
       "      <td>0</td>\n",
       "    </tr>\n",
       "    <tr>\n",
       "      <th>2</th>\n",
       "      <td>Algeria</td>\n",
       "      <td>27973</td>\n",
       "      <td>1163</td>\n",
       "      <td>18837</td>\n",
       "      <td>7973</td>\n",
       "      <td>616</td>\n",
       "      <td>8</td>\n",
       "      <td>749</td>\n",
       "      <td>4.16</td>\n",
       "      <td>67.34</td>\n",
       "      <td>6.17</td>\n",
       "      <td>23691</td>\n",
       "      <td>4282</td>\n",
       "      <td>18.07</td>\n",
       "      <td>Africa</td>\n",
       "      <td>0</td>\n",
       "    </tr>\n",
       "    <tr>\n",
       "      <th>3</th>\n",
       "      <td>Andorra</td>\n",
       "      <td>907</td>\n",
       "      <td>52</td>\n",
       "      <td>803</td>\n",
       "      <td>52</td>\n",
       "      <td>10</td>\n",
       "      <td>0</td>\n",
       "      <td>0</td>\n",
       "      <td>5.73</td>\n",
       "      <td>88.53</td>\n",
       "      <td>6.48</td>\n",
       "      <td>884</td>\n",
       "      <td>23</td>\n",
       "      <td>2.60</td>\n",
       "      <td>Europe</td>\n",
       "      <td>0</td>\n",
       "    </tr>\n",
       "    <tr>\n",
       "      <th>4</th>\n",
       "      <td>Angola</td>\n",
       "      <td>950</td>\n",
       "      <td>41</td>\n",
       "      <td>242</td>\n",
       "      <td>667</td>\n",
       "      <td>18</td>\n",
       "      <td>1</td>\n",
       "      <td>0</td>\n",
       "      <td>4.32</td>\n",
       "      <td>25.47</td>\n",
       "      <td>16.94</td>\n",
       "      <td>749</td>\n",
       "      <td>201</td>\n",
       "      <td>26.84</td>\n",
       "      <td>Africa</td>\n",
       "      <td>0</td>\n",
       "    </tr>\n",
       "  </tbody>\n",
       "</table>\n",
       "</div>"
      ],
      "text/plain": [
       "  Country/Region  Confirmed  Deaths  Recovered  Active  New cases  New deaths  \\\n",
       "0    Afghanistan      36263    1269      25198    9796        106          10   \n",
       "1        Albania       4880     144       2745    1991        117           6   \n",
       "2        Algeria      27973    1163      18837    7973        616           8   \n",
       "3        Andorra        907      52        803      52         10           0   \n",
       "4         Angola        950      41        242     667         18           1   \n",
       "\n",
       "   New recovered  Deaths / 100 Cases  Recovered / 100 Cases  \\\n",
       "0             18                3.50                  69.49   \n",
       "1             63                2.95                  56.25   \n",
       "2            749                4.16                  67.34   \n",
       "3              0                5.73                  88.53   \n",
       "4              0                4.32                  25.47   \n",
       "\n",
       "   Deaths / 100 Recovered  Confirmed last week  1 week change  \\\n",
       "0                    5.04                35526            737   \n",
       "1                    5.25                 4171            709   \n",
       "2                    6.17                23691           4282   \n",
       "3                    6.48                  884             23   \n",
       "4                   16.94                  749            201   \n",
       "\n",
       "   1 week % increase             WHO Region  Cluster  \n",
       "0               2.07  Eastern Mediterranean        0  \n",
       "1              17.00                 Europe        0  \n",
       "2              18.07                 Africa        0  \n",
       "3               2.60                 Europe        0  \n",
       "4              26.84                 Africa        0  "
      ]
     },
     "execution_count": 119,
     "metadata": {},
     "output_type": "execute_result"
    }
   ],
   "source": [
    "kmeans = KMeans(n_clusters=5, random_state=42)\n",
    "kmeans.fit(X)\n",
    "df[\"Cluster\"] = kmeans.labels_\n",
    "df.head()"
   ]
  },
  {
   "cell_type": "code",
   "execution_count": 120,
   "id": "946ae032",
   "metadata": {},
   "outputs": [],
   "source": [
    "pca = PCA(n_components=2)\n",
    "X_pca = pca.fit_transform(X)"
   ]
  },
  {
   "cell_type": "code",
   "execution_count": 121,
   "id": "aaf0a523",
   "metadata": {},
   "outputs": [
    {
     "data": {
      "image/png": "[encoded data removed]",
      "text/plain": [
       "<Figure size 640x480 with 1 Axes>"
      ]
     },
     "metadata": {},
     "output_type": "display_data"
    }
   ],
   "source": [
    "sns.scatterplot(x=X_pca[:, 0], y=X_pca[:, 1], hue=df[\"Cluster\"])\n",
    "plt.title(\"Visualización de clusters con PCA\")\n",
    "plt.show()"
   ]
  },
  {
   "cell_type": "code",
   "execution_count": 122,
   "id": "3a4bc7fd",
   "metadata": {},
   "outputs": [
    {
     "data": {
      "text/plain": [
       "Cluster\n",
       "0    179\n",
       "4      3\n",
       "2      2\n",
       "3      2\n",
       "1      1\n",
       "Name: count, dtype: int64"
      ]
     },
     "execution_count": 122,
     "metadata": {},
     "output_type": "execute_result"
    }
   ],
   "source": [
    "df[\"Cluster\"].value_counts()"
   ]
  },
  {
   "cell_type": "code",
   "execution_count": 123,
   "id": "dd9376a8",
   "metadata": {},
   "outputs": [
    {
     "data": {
      "text/html": [
       "<div>\n",
       "<style scoped>\n",
       "    .dataframe tbody tr th:only-of-type {\n",
       "        vertical-align: middle;\n",
       "    }\n",
       "\n",
       "    .dataframe tbody tr th {\n",
       "        vertical-align: top;\n",
       "    }\n",
       "\n",
       "    .dataframe thead th {\n",
       "        text-align: right;\n",
       "    }\n",
       "</style>\n",
       "<table border=\"1\" class=\"dataframe\">\n",
       "  <thead>\n",
       "    <tr style=\"text-align: right;\">\n",
       "      <th></th>\n",
       "      <th>Confirmed</th>\n",
       "      <th>Deaths</th>\n",
       "      <th>Recovered</th>\n",
       "      <th>Active</th>\n",
       "      <th>New cases</th>\n",
       "      <th>New deaths</th>\n",
       "      <th>New recovered</th>\n",
       "      <th>Deaths / 100 Cases</th>\n",
       "      <th>Recovered / 100 Cases</th>\n",
       "      <th>Deaths / 100 Recovered</th>\n",
       "      <th>Confirmed last week</th>\n",
       "      <th>1 week change</th>\n",
       "      <th>1 week % increase</th>\n",
       "    </tr>\n",
       "    <tr>\n",
       "      <th>Cluster</th>\n",
       "      <th></th>\n",
       "      <th></th>\n",
       "      <th></th>\n",
       "      <th></th>\n",
       "      <th></th>\n",
       "      <th></th>\n",
       "      <th></th>\n",
       "      <th></th>\n",
       "      <th></th>\n",
       "      <th></th>\n",
       "      <th></th>\n",
       "      <th></th>\n",
       "      <th></th>\n",
       "    </tr>\n",
       "  </thead>\n",
       "  <tbody>\n",
       "    <tr>\n",
       "      <th>0</th>\n",
       "      <td>4.420049e+04</td>\n",
       "      <td>1860.201117</td>\n",
       "      <td>2.984739e+04</td>\n",
       "      <td>1.249290e+04</td>\n",
       "      <td>577.765363</td>\n",
       "      <td>17.195531</td>\n",
       "      <td>443.27933</td>\n",
       "      <td>2.923464</td>\n",
       "      <td>66.413575</td>\n",
       "      <td>5.106149</td>\n",
       "      <td>4.053397e+04</td>\n",
       "      <td>3666.513966</td>\n",
       "      <td>10.883240</td>\n",
       "    </tr>\n",
       "    <tr>\n",
       "      <th>1</th>\n",
       "      <td>4.290259e+06</td>\n",
       "      <td>148011.000000</td>\n",
       "      <td>1.325804e+06</td>\n",
       "      <td>2.816444e+06</td>\n",
       "      <td>56336.000000</td>\n",
       "      <td>1076.000000</td>\n",
       "      <td>27941.00000</td>\n",
       "      <td>3.450000</td>\n",
       "      <td>30.900000</td>\n",
       "      <td>11.160000</td>\n",
       "      <td>3.834677e+06</td>\n",
       "      <td>455582.000000</td>\n",
       "      <td>11.880000</td>\n",
       "    </tr>\n",
       "    <tr>\n",
       "      <th>2</th>\n",
       "      <td>1.961224e+06</td>\n",
       "      <td>60513.000000</td>\n",
       "      <td>1.398904e+06</td>\n",
       "      <td>5.018075e+05</td>\n",
       "      <td>33870.500000</td>\n",
       "      <td>625.500000</td>\n",
       "      <td>33663.00000</td>\n",
       "      <td>2.925000</td>\n",
       "      <td>69.935000</td>\n",
       "      <td>4.125000</td>\n",
       "      <td>1.636992e+06</td>\n",
       "      <td>324232.000000</td>\n",
       "      <td>21.695000</td>\n",
       "    </tr>\n",
       "    <tr>\n",
       "      <th>3</th>\n",
       "      <td>1.775605e+05</td>\n",
       "      <td>26002.000000</td>\n",
       "      <td>8.130000e+02</td>\n",
       "      <td>1.507455e+05</td>\n",
       "      <td>553.500000</td>\n",
       "      <td>4.000000</td>\n",
       "      <td>1.50000</td>\n",
       "      <td>13.360000</td>\n",
       "      <td>0.415000</td>\n",
       "      <td>3224.760000</td>\n",
       "      <td>1.745380e+05</td>\n",
       "      <td>3022.500000</td>\n",
       "      <td>2.030000</td>\n",
       "    </tr>\n",
       "    <tr>\n",
       "      <th>4</th>\n",
       "      <td>2.566667e+02</td>\n",
       "      <td>6.333333</td>\n",
       "      <td>5.600000e+01</td>\n",
       "      <td>1.943333e+02</td>\n",
       "      <td>29.666667</td>\n",
       "      <td>0.666667</td>\n",
       "      <td>2.00000</td>\n",
       "      <td>1.776667</td>\n",
       "      <td>20.603333</td>\n",
       "      <td>8.070000</td>\n",
       "      <td>1.016667e+02</td>\n",
       "      <td>155.000000</td>\n",
       "      <td>178.976667</td>\n",
       "    </tr>\n",
       "  </tbody>\n",
       "</table>\n",
       "</div>"
      ],
      "text/plain": [
       "            Confirmed         Deaths     Recovered        Active  \\\n",
       "Cluster                                                            \n",
       "0        4.420049e+04    1860.201117  2.984739e+04  1.249290e+04   \n",
       "1        4.290259e+06  148011.000000  1.325804e+06  2.816444e+06   \n",
       "2        1.961224e+06   60513.000000  1.398904e+06  5.018075e+05   \n",
       "3        1.775605e+05   26002.000000  8.130000e+02  1.507455e+05   \n",
       "4        2.566667e+02       6.333333  5.600000e+01  1.943333e+02   \n",
       "\n",
       "            New cases   New deaths  New recovered  Deaths / 100 Cases  \\\n",
       "Cluster                                                                 \n",
       "0          577.765363    17.195531      443.27933            2.923464   \n",
       "1        56336.000000  1076.000000    27941.00000            3.450000   \n",
       "2        33870.500000   625.500000    33663.00000            2.925000   \n",
       "3          553.500000     4.000000        1.50000           13.360000   \n",
       "4           29.666667     0.666667        2.00000            1.776667   \n",
       "\n",
       "         Recovered / 100 Cases  Deaths / 100 Recovered  Confirmed last week  \\\n",
       "Cluster                                                                       \n",
       "0                    66.413575                5.106149         4.053397e+04   \n",
       "1                    30.900000               11.160000         3.834677e+06   \n",
       "2                    69.935000                4.125000         1.636992e+06   \n",
       "3                     0.415000             3224.760000         1.745380e+05   \n",
       "4                    20.603333                8.070000         1.016667e+02   \n",
       "\n",
       "         1 week change  1 week % increase  \n",
       "Cluster                                    \n",
       "0          3666.513966          10.883240  \n",
       "1        455582.000000          11.880000  \n",
       "2        324232.000000          21.695000  \n",
       "3          3022.500000           2.030000  \n",
       "4           155.000000         178.976667  "
      ]
     },
     "execution_count": 123,
     "metadata": {},
     "output_type": "execute_result"
    }
   ],
   "source": [
    "df[numerical_columns + [\"Cluster\"]].groupby(\"Cluster\").mean()"
   ]
  },
  {
   "cell_type": "code",
   "execution_count": 124,
   "id": "bd5a0d03",
   "metadata": {},
   "outputs": [
    {
     "data": {
      "text/html": [
       "<div>\n",
       "<style scoped>\n",
       "    .dataframe tbody tr th:only-of-type {\n",
       "        vertical-align: middle;\n",
       "    }\n",
       "\n",
       "    .dataframe tbody tr th {\n",
       "        vertical-align: top;\n",
       "    }\n",
       "\n",
       "    .dataframe thead th {\n",
       "        text-align: right;\n",
       "    }\n",
       "</style>\n",
       "<table border=\"1\" class=\"dataframe\">\n",
       "  <thead>\n",
       "    <tr style=\"text-align: right;\">\n",
       "      <th></th>\n",
       "      <th>Country/Region</th>\n",
       "      <th>WHO Region</th>\n",
       "    </tr>\n",
       "    <tr>\n",
       "      <th>Cluster</th>\n",
       "      <th></th>\n",
       "      <th></th>\n",
       "    </tr>\n",
       "  </thead>\n",
       "  <tbody>\n",
       "    <tr>\n",
       "      <th>0</th>\n",
       "      <td>Afghanistan</td>\n",
       "      <td>Europe</td>\n",
       "    </tr>\n",
       "    <tr>\n",
       "      <th>1</th>\n",
       "      <td>US</td>\n",
       "      <td>Americas</td>\n",
       "    </tr>\n",
       "    <tr>\n",
       "      <th>2</th>\n",
       "      <td>Brazil</td>\n",
       "      <td>Americas</td>\n",
       "    </tr>\n",
       "    <tr>\n",
       "      <th>3</th>\n",
       "      <td>Netherlands</td>\n",
       "      <td>Europe</td>\n",
       "    </tr>\n",
       "    <tr>\n",
       "      <th>4</th>\n",
       "      <td>Bahamas</td>\n",
       "      <td>Africa</td>\n",
       "    </tr>\n",
       "  </tbody>\n",
       "</table>\n",
       "</div>"
      ],
      "text/plain": [
       "        Country/Region WHO Region\n",
       "Cluster                          \n",
       "0          Afghanistan     Europe\n",
       "1                   US   Americas\n",
       "2               Brazil   Americas\n",
       "3          Netherlands     Europe\n",
       "4              Bahamas     Africa"
      ]
     },
     "execution_count": 124,
     "metadata": {},
     "output_type": "execute_result"
    }
   ],
   "source": [
    "df[categorical_columns + [\"Cluster\"]].groupby(\"Cluster\").agg(lambda x: x.mode()[0])"
   ]
  },
  {
   "cell_type": "code",
   "execution_count": 125,
   "id": "fb291fb7",
   "metadata": {},
   "outputs": [
    {
     "data": {
      "text/plain": [
       "<Axes: xlabel='Confirmed', ylabel='Deaths'>"
      ]
     },
     "execution_count": 125,
     "metadata": {},
     "output_type": "execute_result"
    },
    {
     "data": {
      "image/png": "[encoded data removed]",
      "text/plain": [
       "<Figure size 640x480 with 1 Axes>"
      ]
     },
     "metadata": {},
     "output_type": "display_data"
    }
   ],
   "source": [
    "sns.barplot(df, x=\"Confirmed\", y=\"Deaths\", estimator=\"mean\")"
   ]
  },
  {
   "cell_type": "code",
   "execution_count": 126,
   "id": "75e72517",
   "metadata": {},
   "outputs": [
    {
     "data": {
      "text/plain": [
       "<Axes: xlabel='Confirmed', ylabel='Deaths'>"
      ]
     },
     "execution_count": 126,
     "metadata": {},
     "output_type": "execute_result"
    },
    {
     "data": {
      "image/png": "[encoded data removed]",
      "text/plain": [
       "<Figure size 640x480 with 1 Axes>"
      ]
     },
     "metadata": {},
     "output_type": "display_data"
    }
   ],
   "source": [
    "sns.scatterplot(df, x=\"Confirmed\", y=\"Deaths\", hue=\"Cluster\")"
   ]
  }
 ],
 "metadata": {
  "kernelspec": {
   "display_name": "herramientascomputacionales",
   "language": "python",
   "name": "python3"
  },
  "language_info": {
   "codemirror_mode": {
    "name": "ipython",
    "version": 3
   },
   "file_extension": ".py",
   "mimetype": "text/x-python",
   "name": "python",
   "nbconvert_exporter": "python",
   "pygments_lexer": "ipython3",
   "version": "3.13.8"
  }
 },
 "nbformat": 4,
 "nbformat_minor": 5
}
